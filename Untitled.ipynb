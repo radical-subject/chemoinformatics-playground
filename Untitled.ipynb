{
 "cells": [
  {
   "cell_type": "code",
   "execution_count": 4,
   "id": "d7c522fb-52b1-4447-bb1e-245c3b363264",
   "metadata": {},
   "outputs": [],
   "source": [
    "import openbabel"
   ]
  },
  {
   "cell_type": "code",
   "execution_count": null,
   "id": "2f8739e1-1cc2-4b87-9fa4-d1c400ff4bdf",
   "metadata": {},
   "outputs": [],
   "source": []
  }
 ],
 "metadata": {
  "kernelspec": {
   "display_name": "Python 3 (ipykernel)",
   "language": "python",
   "name": "python3"
  },
  "language_info": {
   "codemirror_mode": {
    "name": "ipython",
    "version": 3
   },
   "file_extension": ".py",
   "mimetype": "text/x-python",
   "name": "python",
   "nbconvert_exporter": "python",
   "pygments_lexer": "ipython3",
   "version": "3.9.0"
  }
 },
 "nbformat": 4,
 "nbformat_minor": 5
}
